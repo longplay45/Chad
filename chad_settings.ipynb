{
 "cells": [
  {
   "cell_type": "markdown",
   "metadata": {},
   "source": [
    "# > Chad 👨. settings"
   ]
  },
  {
   "cell_type": "markdown",
   "metadata": {},
   "source": [
    "## Download models"
   ]
  },
  {
   "cell_type": "code",
   "execution_count": null,
   "metadata": {},
   "outputs": [],
   "source": [
    "#!ollama pull llama2"
   ]
  },
  {
   "cell_type": "code",
   "execution_count": null,
   "metadata": {},
   "outputs": [],
   "source": [
    "#!ollama pull bakllama"
   ]
  },
  {
   "cell_type": "markdown",
   "metadata": {},
   "source": [
    "## Build Chad llm"
   ]
  },
  {
   "cell_type": "code",
   "execution_count": null,
   "metadata": {},
   "outputs": [],
   "source": [
    "!ollama create Chad -f ./Modelfile"
   ]
  },
  {
   "cell_type": "markdown",
   "metadata": {},
   "source": [
    "## Conversation Types\n",
    "\n",
    "Create default model settings per conversation type\n",
    "\n",
    "- Conversation\n",
    "- Documents (RAG)\n",
    "- Images (Multi-modal)"
   ]
  },
  {
   "cell_type": "code",
   "execution_count": null,
   "metadata": {},
   "outputs": [],
   "source": [
    "# chad_conversation_types.py\n",
    "\n",
    "import os\n",
    "import pandas as pd\n",
    "\n",
    "# Import a function from the 'config' module to get the path for the conversation data.\n",
    "from config import get_conversation_type_path\n",
    "\n",
    "# Get the full path for the pickle file where data will be stored.\n",
    "PKL_FULL_PATH = get_conversation_type_path()\n",
    "\n",
    "# Define system prompts for different types of data.\n",
    "conversation_systemprompt = \"\"\"You are a nice chatbot having a conversation with a human.\"\"\"\n",
    "documents_systemprompt = \"\"\"\n",
    "### System:\n",
    "Your name is \"Chad\". You are a friendly chatbot called \"Chad\" having refreshing conversations with a human. Your an absolute expert in machone learning and python coding. your answers are always on point. Complex answers are presented step by step. You answer with code examples when possible.\n",
    "\n",
    "### Context:\n",
    "{context}\n",
    "\n",
    "### User:\n",
    "{question}\n",
    "\n",
    "### Response:\n",
    "\"\"\"\n",
    "images_systemprompt = \"\"\"\"\"\"\n",
    "\n",
    "# Function to create a DataFrame with predefined setup values.\n",
    "def create_dataframe():\n",
    "    CONVERSATION_SETUP = dict(\n",
    "        type        =[\"conversation\",   \"documents\",        \"images\"],\n",
    "        model       =[\"Chad:latest\",    \"Chad:latest\",      \"bakllama:latest\"],\n",
    "        temperature =[0.0,               0.0,               0.0],\n",
    "        system_prompt=[\n",
    "            conversation_systemprompt,\n",
    "            documents_systemprompt,\n",
    "            images_systemprompt,\n",
    "        ],\n",
    "    )\n",
    "    return pd.DataFrame.from_dict(CONVERSATION_SETUP)\n",
    "\n",
    "# Function to load a DataFrame from a pickle file.\n",
    "def load_dataframe(full_path):\n",
    "    return pd.read_pickle(full_path)\n",
    "\n",
    "# Function to save a DataFrame to a pickle file.\n",
    "def save_dataframe(df, full_path):\n",
    "    df.to_pickle(full_path)\n",
    "\n",
    "# Function to load a specific type of data from the DataFrame.\n",
    "def load_conversation_type(type='conversation'):\n",
    "    \"\"\"\n",
    "    Load a specific type of data from the DataFrame.\n",
    "\n",
    "    Parameters:\n",
    "    - type (str): The type of data to load. Options are 'conversation', 'documents', 'images'.\n",
    "\n",
    "    Returns:\n",
    "    - pd.Series: The specified type of data as a Pandas Series.\n",
    "    - pd.DataFrame: The entire DataFrame if the type is not specified or invalid.\n",
    "    \"\"\"\n",
    "    df = load_dataframe(PKL_FULL_PATH)\n",
    "    \n",
    "    selected_rows = df.loc[df['type'] == type]\n",
    "    model = selected_rows['model'][0]\n",
    "    temperature = selected_rows['temperature'][0]\n",
    "    system_prompt = selected_rows['system_prompt'][0]\n",
    "    return model, temperature, system_prompt\n",
    "    \n",
    "\n",
    "# Debug function to create, save, and print the DataFrame.\n",
    "def debug():\n",
    "    df = create_dataframe()\n",
    "    save_dataframe(df, PKL_FULL_PATH)\n",
    "    print(df)\n",
    "    print(f'Pickel file saved to {PKL_FULL_PATH}.')\n",
    "\n",
    "# Execute the 'main' function if this script is run directly.\n",
    "if __name__ == \"__main__\":\n",
    "    debug()\n"
   ]
  },
  {
   "cell_type": "code",
   "execution_count": null,
   "metadata": {},
   "outputs": [],
   "source": []
  }
 ],
 "metadata": {
  "kernelspec": {
   "display_name": "Chad",
   "language": "python",
   "name": "python3"
  },
  "language_info": {
   "codemirror_mode": {
    "name": "ipython",
    "version": 3
   },
   "file_extension": ".py",
   "mimetype": "text/x-python",
   "name": "python",
   "nbconvert_exporter": "python",
   "pygments_lexer": "ipython3",
   "version": "3.10.13"
  }
 },
 "nbformat": 4,
 "nbformat_minor": 2
}
